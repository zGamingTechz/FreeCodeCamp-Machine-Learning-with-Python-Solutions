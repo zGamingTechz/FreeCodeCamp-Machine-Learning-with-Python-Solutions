{
  "cells": [
    {
      "cell_type": "markdown",
      "metadata": {
        "id": "view-in-github",
        "colab_type": "text"
      },
      "source": [
        "<a href=\"https://colab.research.google.com/github/zGamingTechz/FreeCodeCamp-Machine-Learning-with-Python-Solutions/blob/main/fcc_sms_text_classification.ipynb\" target=\"_parent\"><img src=\"https://colab.research.google.com/assets/colab-badge.svg\" alt=\"Open In Colab\"/></a>"
      ]
    },
    {
      "cell_type": "markdown",
      "source": [
        "# import libraries"
      ],
      "metadata": {
        "id": "o9xFX46wS8VR"
      }
    },
    {
      "cell_type": "code",
      "source": [
        "!pip install --upgrade tensorflow\n",
        "import numpy as np\n",
        "import pandas as pd\n",
        "import matplotlib.pyplot as plt\n",
        "import tensorflow as tf\n",
        "from tensorflow import keras\n",
        "!pip install tensorflow-datasets\n",
        "import tensorflow_datasets as tfds"
      ],
      "metadata": {
        "id": "HPIuoMMRSrDS"
      },
      "execution_count": null,
      "outputs": []
    },
    {
      "cell_type": "markdown",
      "source": [
        "# get data files\n"
      ],
      "metadata": {
        "id": "gGqHqQ2_S9pZ"
      }
    },
    {
      "cell_type": "code",
      "source": [
        "!wget https://cdn.freecodecamp.org/project-data/sms/train-data.tsv\n",
        "!wget https://cdn.freecodecamp.org/project-data/sms/valid-data.tsv\n",
        "\n",
        "train_file_path = \"train-data.tsv\"\n",
        "test_file_path = \"valid-data.tsv\""
      ],
      "metadata": {
        "id": "3OO0xDPVS9d5"
      },
      "execution_count": null,
      "outputs": []
    },
    {
      "cell_type": "code",
      "source": [
        "train_data = pd.read_csv(train_file_path, sep=\"\\t\", header=None)\n",
        "train_data.columns = ['label', 'text']\n",
        "test_data = pd.read_csv(test_file_path, sep=\"\\t\", header=None)\n",
        "test_data.columns = ['label', 'text']"
      ],
      "metadata": {
        "id": "WR_x6QtwTF6A"
      },
      "execution_count": null,
      "outputs": []
    },
    {
      "cell_type": "markdown",
      "source": [
        "Visualising the data"
      ],
      "metadata": {
        "id": "fpJmkGQCTaje"
      }
    },
    {
      "cell_type": "code",
      "source": [
        "train_data.isna().sum()\n",
        "test_data.isna().sum()\n",
        "train_data['label'].value_counts()/train_data.shape[0]\n",
        "plt.rcParams[\"figure.figsize\"] = [8,10]\n",
        "train_data.label.value_counts().plot(kind='pie', autopct='%1.0f%%')"
      ],
      "metadata": {
        "id": "RtjKkRNjTWNR"
      },
      "execution_count": null,
      "outputs": []
    },
    {
      "cell_type": "code",
      "source": [
        "y_train = train_data['label'].astype('category').cat.codes\n",
        "y_test  = test_data['label'].astype('category').cat.codes"
      ],
      "metadata": {
        "id": "HKendMTlTXfn"
      },
      "execution_count": null,
      "outputs": []
    },
    {
      "cell_type": "markdown",
      "source": [
        "Preprocessing"
      ],
      "metadata": {
        "id": "tgJyrWW1TrET"
      }
    },
    {
      "cell_type": "code",
      "source": [
        "import re\n",
        "import nltk\n",
        "from nltk import stem\n",
        "from nltk.stem import WordNetLemmatizer\n",
        "from nltk.corpus import stopwords"
      ],
      "metadata": {
        "id": "n45R1fJJTsmN"
      },
      "execution_count": null,
      "outputs": []
    },
    {
      "cell_type": "code",
      "source": [
        "nltk.download('stopwords')\n",
        "nltk.download('wordnet')"
      ],
      "metadata": {
        "id": "tgmbLu6MTu8j"
      },
      "execution_count": null,
      "outputs": []
    },
    {
      "cell_type": "code",
      "source": [
        "stemmer = stem.SnowballStemmer('english')\n",
        "lemmatizer = WordNetLemmatizer()\n",
        "stopwords = set(stopwords.words('english'))"
      ],
      "metadata": {
        "id": "6FfQUMukTxAL"
      },
      "execution_count": null,
      "outputs": []
    },
    {
      "cell_type": "code",
      "source": [
        "def clean_messages(text):\n",
        "  text = re.sub(r'([^\\s\\w])+',\" \",text)\n",
        "  text = text.lower()\n",
        "  text = text.split()\n",
        "  text = [lemmatizer.lemmatize(word) for word in text if not word in stopwords]\n",
        "  text = \" \".join(text)\n",
        "  return text\n",
        "\n",
        "X_train = train_data['text'].apply(lambda x: clean_messages(x))\n",
        "X_test = test_data['text'].apply(lambda x: clean_messages(x))"
      ],
      "metadata": {
        "id": "pDRB1oQ4Ty_0"
      },
      "execution_count": null,
      "outputs": []
    },
    {
      "cell_type": "markdown",
      "source": [
        "Vectorizing"
      ],
      "metadata": {
        "id": "hYVGnWAwT8gU"
      }
    },
    {
      "cell_type": "code",
      "source": [
        "import tensorflow as tf\n",
        "from keras.preprocessing.text import Tokenizer\n",
        "from keras.preprocessing import sequence\n",
        "\n",
        "tokenizer = Tokenizer(num_words=1000)\n",
        "tokenizer.fit_on_texts(X_train)\n",
        "\n",
        "# convert to sequence of integers\n",
        "X_train_sequence = tokenizer.texts_to_sequences(X_train)\n",
        "print(X_train_sequence[0])\n",
        "\n",
        "X_train_sequence = sequence.pad_sequences(X_train_sequence, maxlen=500)\n",
        "X_train_sequence[:5]"
      ],
      "metadata": {
        "id": "fORf9ZgQT1Yh"
      },
      "execution_count": null,
      "outputs": []
    },
    {
      "cell_type": "code",
      "source": [
        "X_test_sequence = tokenizer.texts_to_sequences(X_test)\n",
        "X_test_sequence = sequence.pad_sequences(X_test_sequence, maxlen=500)"
      ],
      "metadata": {
        "id": "Cyxk5mYbUaEk"
      },
      "execution_count": null,
      "outputs": []
    },
    {
      "cell_type": "markdown",
      "source": [
        "#Building The Model"
      ],
      "metadata": {
        "id": "ZF_SZXvQUiiD"
      }
    },
    {
      "cell_type": "code",
      "source": [
        "# Keep top 1000 frequently occurring words\n",
        "max_words = 1000\n",
        "\n",
        "# Cut off the words after seeing 500 words in each document\n",
        "max_len = 500\n",
        "!pip show tensorflow"
      ],
      "metadata": {
        "id": "k6bXSLDJUklN"
      },
      "execution_count": null,
      "outputs": []
    },
    {
      "cell_type": "code",
      "source": [
        "model = tf.keras.models.Sequential()\n",
        "model.add(tf.keras.layers.Input(shape = [max_len]))\n",
        "model.add(tf.keras.layers.Embedding(input_dim=max_words, output_dim=50, input_shape=(max_len,)))\n",
        "model.add(tf.keras.layers.LSTM(64))\n",
        "model.add(tf.keras.layers.Dense(256, activation = 'relu'))\n",
        "model.add(tf.keras.layers.Dropout(0.5))\n",
        "model.add(tf.keras.layers.Dense(1, activation = 'sigmoid'))\n",
        "model.summary()"
      ],
      "metadata": {
        "id": "5MOFgswEUoES"
      },
      "execution_count": null,
      "outputs": []
    },
    {
      "cell_type": "code",
      "source": [
        "from keras.optimizers import RMSprop\n",
        "from keras.callbacks import EarlyStopping"
      ],
      "metadata": {
        "id": "clFwfHM9Wmaz"
      },
      "execution_count": null,
      "outputs": []
    },
    {
      "cell_type": "code",
      "source": [
        "model.compile(loss = 'binary_crossentropy', optimizer = RMSprop(), metrics=['accuracy'])\n",
        "history = model.fit(X_train_sequence, y_train, batch_size = 128, epochs=10,\n",
        "          validation_split = 0.2, callbacks = [EarlyStopping(monitor = 'val_loss', min_delta = 0.0001)])"
      ],
      "metadata": {
        "id": "xDo9bim0WnNk"
      },
      "execution_count": null,
      "outputs": []
    },
    {
      "cell_type": "code",
      "source": [
        "accuracy = model.evaluate(X_test_sequence, y_test, verbose = 2)"
      ],
      "metadata": {
        "id": "kb2UJ-HlWzs0"
      },
      "execution_count": null,
      "outputs": []
    },
    {
      "cell_type": "markdown",
      "source": [
        "Preprocessing"
      ],
      "metadata": {
        "id": "xUzOnWB3W5U6"
      }
    },
    {
      "cell_type": "code",
      "source": [
        "def pre_process(pred_text):\n",
        "  pred_text = pred_text.apply(lambda x: clean_messages(x))\n",
        "\n",
        "  pred_text_sequence = tokenizer.texts_to_sequences(pred_text)\n",
        "  pred_text_sequence = sequence.pad_sequences(pred_text_sequence, maxlen=500)\n",
        "  return pred_text_sequence"
      ],
      "metadata": {
        "id": "vUXuGR6_W6sr"
      },
      "execution_count": null,
      "outputs": []
    },
    {
      "cell_type": "markdown",
      "source": [
        "Predicting message"
      ],
      "metadata": {
        "id": "b2xrIatXXSxS"
      }
    },
    {
      "cell_type": "code",
      "source": [
        "# function to predict messages based on model\n",
        "# (should return list containing prediction and label, ex. [0.008318834938108921, 'ham'])\n",
        "def predict_message(pred_text):\n",
        "  text = pre_process(pd.Series([pred_text]))\n",
        "  prediction = []\n",
        "  result = model.predict(text)[0]\n",
        "  if result[0] < 0.5:\n",
        "    prediction.append(result[0])\n",
        "    prediction.append('ham')\n",
        "  else:\n",
        "    prediction.append(result[0])\n",
        "    prediction.append('spam')\n",
        "\n",
        "  return (prediction)\n",
        "\n",
        "pred_text = \"how are you doing today?\"\n",
        "\n",
        "prediction = predict_message(pred_text)\n",
        "print(prediction)"
      ],
      "metadata": {
        "id": "8T0skYI7XUga"
      },
      "execution_count": null,
      "outputs": []
    },
    {
      "cell_type": "code",
      "source": [
        "# Run this cell to test your function and model. Do not modify contents.\n",
        "def test_predictions():\n",
        "  test_messages = [\"how are you doing today\",\n",
        "                   \"sale today! to stop texts call 98912460324\",\n",
        "                   \"i dont want to go. can we try it a different day? available sat\",\n",
        "                   \"our new mobile video service is live. just install on your phone to start watching.\",\n",
        "                   \"you have won £1000 cash! call to claim your prize.\",\n",
        "                   \"i'll bring it tomorrow. don't forget the milk.\",\n",
        "                   \"wow, is your arm alright. that happened to me one time too\"\n",
        "                  ]\n",
        "\n",
        "  test_answers = [\"ham\", \"spam\", \"ham\", \"spam\", \"spam\", \"ham\", \"ham\"]\n",
        "  passed = True\n",
        "\n",
        "  for msg, ans in zip(test_messages, test_answers):\n",
        "    prediction = predict_message(msg)\n",
        "    if prediction[1] != ans:\n",
        "      passed = False\n",
        "\n",
        "  if passed:\n",
        "    print(\"You passed the challenge. Great job!\")\n",
        "  else:\n",
        "    print(\"You haven't passed yet. Keep trying.\")\n",
        "\n",
        "test_predictions()"
      ],
      "metadata": {
        "id": "DX0x3X3bXmDw"
      },
      "execution_count": null,
      "outputs": []
    }
  ],
  "metadata": {
    "colab": {
      "provenance": [],
      "toc_visible": true,
      "gpuType": "T4",
      "include_colab_link": true
    },
    "kernelspec": {
      "display_name": "Python 3",
      "name": "python3"
    },
    "language_info": {},
    "accelerator": "GPU"
  },
  "nbformat": 4,
  "nbformat_minor": 0
}